{
  "nbformat": 4,
  "nbformat_minor": 0,
  "metadata": {
    "colab": {
      "name": "Agglomerative_Hierarchical_Clustering.ipynb",
      "provenance": [],
      "toc_visible": true
    },
    "kernelspec": {
      "name": "python3",
      "display_name": "Python 3"
    }
  },
  "cells": [
    {
      "cell_type": "markdown",
      "metadata": {
        "id": "6tewte8V0i7G",
        "colab_type": "text"
      },
      "source": [
        "##Agglomerative Hierarchical Clustering (Dendrogram) from scratch"
      ]
    },
    {
      "cell_type": "code",
      "metadata": {
        "id": "Z-xJYCJ-znqn",
        "colab_type": "code",
        "colab": {}
      },
      "source": [
        "import numpy as np\n",
        "import pandas as pd\n",
        "import matplotlib.pyplot as plt"
      ],
      "execution_count": 1,
      "outputs": []
    },
    {
      "cell_type": "markdown",
      "metadata": {
        "id": "AXnkt6Q20raR",
        "colab_type": "text"
      },
      "source": [
        "### Generate Data"
      ]
    },
    {
      "cell_type": "code",
      "metadata": {
        "id": "BgnP0lX3zu2K",
        "colab_type": "code",
        "colab": {}
      },
      "source": [
        "\n",
        "x1 = np.random.normal(loc=np.random.uniform(size=(5,))*10-5,size=(5,5))\n",
        "x2 = np.random.normal(loc=np.random.uniform(size=(5,))*10-5,size=(5,5))\n",
        "x3 = np.random.normal(loc=np.random.uniform(size=(5,))*10-5,size=(5,5))\n",
        "x = np.vstack((x1,x2,x3))\n",
        "shuffle = np.random.permutation(x.shape[0])\n",
        "x = x[shuffle,:]\n",
        "membership = shuffle.copy()\n",
        "for i in range(len(membership)):\n",
        "    if membership[i]<5: membership[i]=0\n",
        "    elif membership[i]<10: membership[i]=1\n",
        "    else: membership[i]=2\n",
        "np.unique(membership,return_counts=True)\n",
        "\n",
        "OriginalX=x.copy()\n",
        "x=OriginalX.copy()\n",
        "x=pd.DataFrame(x) "
      ],
      "execution_count": 2,
      "outputs": []
    },
    {
      "cell_type": "markdown",
      "metadata": {
        "id": "utxjHk1t0vvX",
        "colab_type": "text"
      },
      "source": [
        "### Distrance between obseravations"
      ]
    },
    {
      "cell_type": "code",
      "metadata": {
        "id": "Iqf7e6zmz01x",
        "colab_type": "code",
        "colab": {}
      },
      "source": [
        "\n",
        "def MinDist(x):   \n",
        "    MinDist=10000000\n",
        "    Dist=0\n",
        "    MinDistPair=(0,1)\n",
        "    for i in range(x.index[-1]+1):\n",
        "        for j in range(i+1,x.index[-1]+1):\n",
        "            try:\n",
        "                Dist=np.sqrt(np.sum(np.square(x.loc[i,:]-x.loc[j,:])))\n",
        "            except KeyError:\n",
        "                Dist=100000000\n",
        "            if Dist < MinDist:\n",
        "                MinDist = Dist\n",
        "                MinDistPair=(i,j,Dist)\n",
        "    return(MinDistPair)"
      ],
      "execution_count": 4,
      "outputs": []
    },
    {
      "cell_type": "markdown",
      "metadata": {
        "id": "chTcv5wM03mj",
        "colab_type": "text"
      },
      "source": [
        "### Calculating the Cenroid of a newcluster "
      ]
    },
    {
      "cell_type": "code",
      "metadata": {
        "id": "gd80mFmRz313",
        "colab_type": "code",
        "colab": {}
      },
      "source": [
        "def Centroid(p1,p2,x,l,c):\n",
        "    if p1 < len(x) and p2 < len(x):\n",
        "        c.append(x[p1])\n",
        "        c.append(x[p2])\n",
        "    elif p1 < len(x):\n",
        "        for i in range(0,len(l)):  \n",
        "            if l[i][4]==p2:\n",
        "                Centroid(l[i][0],l[i][1],x,l,c)\n",
        "    else:  \n",
        "        for i in range(0,len(l)):  \n",
        "            if l[i][4]==p2:\n",
        "                Centroid(l[i][0],l[i][1],x,l,c)\n",
        "        for i in range(0,len(l)):  \n",
        "            if l[i][4]==p1:\n",
        "                Centroid(l[i][0],l[i][1],x,l,c)\n",
        "    return np.matrix(c).mean(0).tolist()[0]\n"
      ],
      "execution_count": 5,
      "outputs": []
    },
    {
      "cell_type": "markdown",
      "metadata": {
        "id": "iiitHcjx07VZ",
        "colab_type": "text"
      },
      "source": [
        "### Linked nodes and distance between the nodes"
      ]
    },
    {
      "cell_type": "code",
      "metadata": {
        "id": "AmI2L27qz8p4",
        "colab_type": "code",
        "colab": {}
      },
      "source": [
        "\n",
        "Linkage=[]\n",
        "for i in range(len(OriginalX)-1):\n",
        "    c=[]\n",
        "    MDPair=MinDist(x)\n",
        "    Avg=Centroid(MDPair[0],MDPair[1],OriginalX,Linkage,c)\n",
        "    x.loc[x.index[-1]+1,:]=Avg\n",
        "   \n",
        "    if MDPair[0] < len(OriginalX) and MDPair[1] < len(OriginalX):\n",
        "        l=[MDPair[0],MDPair[1],MDPair[2],2,x.index[-1]]\n",
        "    elif MDPair[0] >= len(OriginalX) and MDPair[1] >= len(OriginalX):\n",
        "        l=[MDPair[0],MDPair[1],MDPair[2],Linkage[MDPair[0]-len(OriginalX)][3]+Linkage[MDPair[1]-len(OriginalX)][3],x.index[-1]]\n",
        "    else:\n",
        "        l=[MDPair[0],MDPair[1],MDPair[2],Linkage[MDPair[1]-len(OriginalX)][3]+1,x.index[-1]]    \n",
        "    Linkage.append(l)\n",
        "    x=x.drop(axis=0, index=MDPair[1])\n",
        "    x=x.drop(axis=0, index=MDPair[0])\n"
      ],
      "execution_count": 6,
      "outputs": []
    },
    {
      "cell_type": "markdown",
      "metadata": {
        "id": "Z27D0OhF0-SP",
        "colab_type": "text"
      },
      "source": [
        "### linkage node sequence for Dendrogram"
      ]
    },
    {
      "cell_type": "code",
      "metadata": {
        "id": "sxdT9Xr50Ads",
        "colab_type": "code",
        "colab": {
          "base_uri": "https://localhost:8080/",
          "height": 312
        },
        "outputId": "34507ed7-86d6-449d-a2db-e280c48a8232"
      },
      "source": [
        " def group(currmember,allMember,B):\n",
        "    \n",
        "    left=currmember[0]\n",
        "    if left >= (len(Linkage)+1):\n",
        "        for i in range(0,len(allMember)):\n",
        "            if allMember[i][4]==left:\n",
        "               group(allMember[i],allMember,B)\n",
        "    else:\n",
        "        B.append(left)\n",
        "    right=currmember[1]\n",
        "    if right >= (len(Linkage)+1):\n",
        "        for i in range(0,len(allMember)):\n",
        "            if allMember[i][4]==right:\n",
        "                group(allMember[i],allMember,B)\n",
        "    else:\n",
        "        B.append(right)\n",
        "    return B    \n",
        "\n",
        "B=[]\n",
        "print(\"Likange : Between Nodes which contains Node1, Node2, Distance, Degree and New Node\")\n",
        "print(pd.DataFrame(Linkage))\n",
        "print(group(Linkage[-1],Linkage,B))\n"
      ],
      "execution_count": 7,
      "outputs": [
        {
          "output_type": "stream",
          "text": [
            "Likange : Between Nodes which contains Node1, Node2, Distance, Degree and New Node\n",
            "     0   1          2   3   4\n",
            "0   13  14   1.571434   2  15\n",
            "1   11  12   1.669676   2  16\n",
            "2    5  15   1.999509   3  17\n",
            "3    2   8   2.423500   2  18\n",
            "4    4  16   2.537870   3  19\n",
            "5   10  17   2.830129   4  20\n",
            "6    9  18   2.851379   3  21\n",
            "7    7  19   3.069725   4  22\n",
            "8    6  22   3.239932   5  23\n",
            "9    0  21   3.599122   4  24\n",
            "10   3  20   4.093725   5  25\n",
            "11   1  24   4.285585   5  26\n",
            "12  23  25   7.865615  10  27\n",
            "13  26  27  10.662310  15  28\n",
            "[1, 0, 9, 2, 8, 6, 7, 4, 11, 12, 3, 10, 5, 13, 14]\n"
          ],
          "name": "stdout"
        }
      ]
    },
    {
      "cell_type": "markdown",
      "metadata": {
        "id": "e0L0Ampi1BqD",
        "colab_type": "text"
      },
      "source": [
        "### Ploting the Dendrogram"
      ]
    },
    {
      "cell_type": "code",
      "metadata": {
        "id": "TvMHJ1g_0FxN",
        "colab_type": "code",
        "colab": {
          "base_uri": "https://localhost:8080/",
          "height": 279
        },
        "outputId": "e5f34663-105b-479b-dc1a-927a5b3df37f"
      },
      "source": [
        "depthbreadth=[]\n",
        "for i in range(0,len(Linkage)):\n",
        "    plt.xlabel('sample index as shown in above array')\n",
        "    plt.ylabel('distance')\n",
        "    plt.text(0, -1, B , fontsize=14)\n",
        "    l = Linkage[i][0]\n",
        "    r = Linkage[i][1]  \n",
        "    if Linkage[i][3] == 2:\n",
        "        xl=B.index(l)\n",
        "        xr=B.index(r)\n",
        "        dh=[xl,xr,Linkage[i][2],l,r]\n",
        "        depthbreadth.append(dh)\n",
        "        plt.vlines(x=xl,ymin=0,ymax=Linkage[i][2],label='{0}'.format(Linkage[i][0]))\n",
        "        plt.vlines(x=xr,ymin=0,ymax=Linkage[i][2],label='{0}'.format(Linkage[i][1]))\n",
        "        plt.hlines(y=Linkage[i][2],xmin=xl,xmax=xr)\n",
        "    elif (l<len(OriginalX)):\n",
        "        xl=B.index(l)\n",
        "        xr=depthbreadth[r-len(OriginalX)][0]+0.5\n",
        "        dh=[xl,xr,Linkage[i][2],l,r]\n",
        "        depthbreadth.append(dh)\n",
        "        plt.vlines(x=xl,ymin=0,ymax=Linkage[i][2],label='{0}'.format(Linkage[i][0]))\n",
        "        plt.vlines(x=xr,ymin=Linkage[r-len(OriginalX)][2],ymax=Linkage[i][2],label='{0}'.format(Linkage[i][1]))\n",
        "        plt.hlines(y=Linkage[i][2],xmin=xl,xmax=xr)\n",
        "    else:\n",
        "        xl=depthbreadth[l-len(OriginalX)][0]+0.5\n",
        "        xr=depthbreadth[r-len(OriginalX)][0]+0.5\n",
        "        dh=[xl,xr,Linkage[i][2],l,r]\n",
        "        depthbreadth.append(dh)\n",
        "        plt.vlines(x=xl,ymin=Linkage[l-len(OriginalX)][2],ymax=Linkage[i][2],label='{0}'.format(Linkage[i][0]))\n",
        "        plt.vlines(x=xr,ymin=Linkage[r-len(OriginalX)][2],ymax=Linkage[i][2],label='{0}'.format(Linkage[i][1]))\n",
        "        plt.hlines(y=Linkage[i][2],xmin=xl,xmax=xr)\n"
      ],
      "execution_count": 8,
      "outputs": [
        {
          "output_type": "display_data",
          "data": {
            "image/png": "[encoded data removed]",
            "text/plain": [
              "<Figure size 432x288 with 1 Axes>"
            ]
          },
          "metadata": {
            "tags": [],
            "needs_background": "light"
          }
        }
      ]
    },
    {
      "cell_type": "code",
      "metadata": {
        "id": "zOmOM00F0Ku2",
        "colab_type": "code",
        "colab": {
          "base_uri": "https://localhost:8080/",
          "height": 503
        },
        "outputId": "cae7dfb1-47b2-4163-ceca-df7d707c45b7"
      },
      "source": [
        "#### Verify the dendrogram with SCIPY Package\n",
        "# =============================================================================\n",
        "from matplotlib import pyplot as plt\n",
        "from scipy.cluster.hierarchy import dendrogram, linkage\n",
        "import numpy as np\n",
        " \n",
        "#Linkage\n",
        " \n",
        " \n",
        "Z = linkage(OriginalX,'centroid')\n",
        "plt.figure(figsize=(25, 10))\n",
        "plt.title('Hierarchical Clustering Dendrogram')\n",
        "plt.xlabel('sample index')\n",
        "plt.ylabel('distance')\n",
        "dendrogram(\n",
        "    Z,\n",
        "    leaf_rotation=90.,  # rotates the x axis labels\n",
        "    leaf_font_size=8.,  # font size for the x axis labels\n",
        ")\n",
        "plt.show()\n",
        "# \n",
        "# =============================================================================\n"
      ],
      "execution_count": 9,
      "outputs": [
        {
          "output_type": "display_data",
          "data": {
            "image/png": "[encoded data removed]",
            "text/plain": [
              "<Figure size 1800x720 with 1 Axes>"
            ]
          },
          "metadata": {
            "tags": [],
            "needs_background": "light"
          }
        }
      ]
    }
  ]
}